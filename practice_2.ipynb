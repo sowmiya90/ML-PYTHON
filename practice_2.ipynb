{
 "cells": [
  {
   "cell_type": "markdown",
   "metadata": {},
   "source": [
    "1.Write a program to check whether a number is even or odd.\n",
    "Even number : A number is said to be a even number if divided by 2, remainder will be zero"
   ]
  },
  {
   "cell_type": "code",
   "execution_count": 3,
   "metadata": {},
   "outputs": [
    {
     "name": "stdout",
     "output_type": "stream",
     "text": [
      "Enter a number: 32\n",
      "Even number\n"
     ]
    }
   ],
   "source": [
    "n = int(input(\"Enter a number: \"))\n",
    "if n % 2 == 0:\n",
    "    print(\"Even number\")\n",
    "else:\n",
    "    print(\"odd number\")"
   ]
  },
  {
   "cell_type": "markdown",
   "metadata": {},
   "source": [
    "2.Write a program to check a character is vowel or consonant.\n",
    "Vowel : Given char is a vowel if its wither 'a' or 'e' or 'i' or 'o' or 'u'."
   ]
  },
  {
   "cell_type": "code",
   "execution_count": 4,
   "metadata": {},
   "outputs": [
    {
     "name": "stdout",
     "output_type": "stream",
     "text": [
      "Enter a character: a\n",
      "Vowel\n"
     ]
    }
   ],
   "source": [
    "vowel = ['a', 'e', 'i', 'o', 'u']\n",
    "ch = str(input(\"Enter a character: \"))\n",
    "\n",
    "if ch in vowel:\n",
    "    print(\"Vowel\")\n",
    "else:\n",
    "    print(\"Consonent\")"
   ]
  },
  {
   "cell_type": "code",
   "execution_count": 5,
   "metadata": {},
   "outputs": [
    {
     "name": "stdout",
     "output_type": "stream",
     "text": [
      "Enter a character: z\n",
      "Consonent\n"
     ]
    }
   ],
   "source": [
    "vowel = ['a', 'e', 'i', 'o', 'u']\n",
    "ch = str(input(\"Enter a character: \"))\n",
    "\n",
    "if ch in vowel:\n",
    "    print(\"Vowel\")\n",
    "else:\n",
    "    print(\"Consonent\")"
   ]
  },
  {
   "cell_type": "markdown",
   "metadata": {},
   "source": [
    "Given two numbers, print their sum. However, if the two numbers are the same, return double their sum."
   ]
  },
  {
   "cell_type": "markdown",
   "metadata": {},
   "source": [
    "input : num1 = 10 ,num2 = 10 expected output => (10 + 10)*2 = 40 input : num1 = 5 , num2 = 10 expected output => (5 + 10) = 15"
   ]
  },
  {
   "cell_type": "code",
   "execution_count": 7,
   "metadata": {},
   "outputs": [
    {
     "name": "stdout",
     "output_type": "stream",
     "text": [
      "40\n"
     ]
    }
   ],
   "source": [
    "num1 = 10\n",
    "num2 = 10\n",
    "\n",
    "if num1 == num2:\n",
    "    s = (num1 + num2)*2\n",
    "    print(s)\n",
    "    \n",
    "else:\n",
    "    s = (num1 + num2)\n",
    "    print(s)"
   ]
  },
  {
   "cell_type": "code",
   "execution_count": 8,
   "metadata": {},
   "outputs": [
    {
     "name": "stdout",
     "output_type": "stream",
     "text": [
      "15\n"
     ]
    }
   ],
   "source": [
    "num1 = 5\n",
    "num2 = 10\n",
    "\n",
    "if num1 == num2:\n",
    "    s = (num1 + num2)*2\n",
    "    print(s)\n",
    "    \n",
    "else:\n",
    "    s = (num1 + num2)\n",
    "    print(s)"
   ]
  },
  {
   "cell_type": "markdown",
   "metadata": {},
   "source": [
    "4.Given a Cost price and Selling price of a product,write program to calculate profit or loss.\n",
    "Profit : if Selling Price > Cost Price\n",
    "Loss : if Selling Price < Cost Price\n",
    "\n",
    "input : cost price = 100 , selling price = 200 expected output => Profit of 100.\n",
    "input : cost price = 50 , selling price = 20 expected output => Loss of 30"
   ]
  },
  {
   "cell_type": "code",
   "execution_count": 10,
   "metadata": {},
   "outputs": [
    {
     "name": "stdout",
     "output_type": "stream",
     "text": [
      "profit of 100\n"
     ]
    }
   ],
   "source": [
    "cost_price = 100\n",
    "selling_price = 200\n",
    "\n",
    "if selling_price > cost_price:\n",
    "    profit = selling_price - cost_price\n",
    "    print(\"profit of\", profit)\n",
    "else:\n",
    "    loss = cost_price - selling_price\n",
    "    print(\"Loss of\", loss)"
   ]
  },
  {
   "cell_type": "code",
   "execution_count": 11,
   "metadata": {},
   "outputs": [
    {
     "name": "stdout",
     "output_type": "stream",
     "text": [
      "Loss of 30\n"
     ]
    }
   ],
   "source": [
    "cost_price = 50\n",
    "selling_price = 20\n",
    "\n",
    "if selling_price > cost_price:\n",
    "    profit = selling_price - cost_price\n",
    "    print(\"profit of\", profit)\n",
    "else:\n",
    "    loss = cost_price - selling_price\n",
    "    print(\"Loss of\", loss)"
   ]
  },
  {
   "cell_type": "markdown",
   "metadata": {},
   "source": [
    "5.Write a program to check whether triangle is valid or not if angles are given.\n",
    "Valid Triangle : Sum of all the angles should be 180 All the angles should be greater than zero"
   ]
  },
  {
   "cell_type": "code",
   "execution_count": 12,
   "metadata": {},
   "outputs": [
    {
     "name": "stdout",
     "output_type": "stream",
     "text": [
      "180\n",
      "valid triangle\n"
     ]
    }
   ],
   "source": [
    "a = 60\n",
    "b = 60\n",
    "c = 60\n",
    "\n",
    "s = a + b + c\n",
    "print(s)\n",
    "\n",
    "if (s == 180) and (a > 0 and b > 0 and c > 0):\n",
    "    print(\"valid triangle\")\n",
    "else:\n",
    "    print(\"Not a triangle\")\n",
    "    "
   ]
  },
  {
   "cell_type": "code",
   "execution_count": 13,
   "metadata": {},
   "outputs": [
    {
     "name": "stdout",
     "output_type": "stream",
     "text": [
      "120\n",
      "Not a triangle\n"
     ]
    }
   ],
   "source": [
    "a = 60\n",
    "b = 0\n",
    "c = 60\n",
    "\n",
    "s = a + b + c\n",
    "print(s)\n",
    "\n",
    "if (s == 180) and (a > 0 and b > 0 and c > 0):\n",
    "    print(\"valid triangle\")\n",
    "else:\n",
    "    print(\"Not a triangle\")"
   ]
  },
  {
   "cell_type": "code",
   "execution_count": null,
   "metadata": {},
   "outputs": [],
   "source": []
  }
 ],
 "metadata": {
  "kernelspec": {
   "display_name": "Python 3",
   "language": "python",
   "name": "python3"
  },
  "language_info": {
   "codemirror_mode": {
    "name": "ipython",
    "version": 3
   },
   "file_extension": ".py",
   "mimetype": "text/x-python",
   "name": "python",
   "nbconvert_exporter": "python",
   "pygments_lexer": "ipython3",
   "version": "3.7.1"
  }
 },
 "nbformat": 4,
 "nbformat_minor": 2
}
