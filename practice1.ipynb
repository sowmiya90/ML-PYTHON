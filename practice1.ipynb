{
 "cells": [
  {
   "cell_type": "markdown",
   "metadata": {},
   "source": [
    "write a python program to find thoser numbers which are divisible by 5 and 7 between 1500 and 2700(both included)"
   ]
  },
  {
   "cell_type": "code",
   "execution_count": 3,
   "metadata": {},
   "outputs": [
    {
     "name": "stdout",
     "output_type": "stream",
     "text": [
      "number is divisible by 5 and 7 is:  1505\n",
      "number is divisible by 5 and 7 is:  1540\n",
      "number is divisible by 5 and 7 is:  1575\n",
      "number is divisible by 5 and 7 is:  1610\n",
      "number is divisible by 5 and 7 is:  1645\n",
      "number is divisible by 5 and 7 is:  1680\n",
      "number is divisible by 5 and 7 is:  1715\n",
      "number is divisible by 5 and 7 is:  1750\n",
      "number is divisible by 5 and 7 is:  1785\n",
      "number is divisible by 5 and 7 is:  1820\n",
      "number is divisible by 5 and 7 is:  1855\n",
      "number is divisible by 5 and 7 is:  1890\n",
      "number is divisible by 5 and 7 is:  1925\n",
      "number is divisible by 5 and 7 is:  1960\n",
      "number is divisible by 5 and 7 is:  1995\n",
      "number is divisible by 5 and 7 is:  2030\n",
      "number is divisible by 5 and 7 is:  2065\n",
      "number is divisible by 5 and 7 is:  2100\n",
      "number is divisible by 5 and 7 is:  2135\n",
      "number is divisible by 5 and 7 is:  2170\n",
      "number is divisible by 5 and 7 is:  2205\n",
      "number is divisible by 5 and 7 is:  2240\n",
      "number is divisible by 5 and 7 is:  2275\n",
      "number is divisible by 5 and 7 is:  2310\n",
      "number is divisible by 5 and 7 is:  2345\n",
      "number is divisible by 5 and 7 is:  2380\n",
      "number is divisible by 5 and 7 is:  2415\n",
      "number is divisible by 5 and 7 is:  2450\n",
      "number is divisible by 5 and 7 is:  2485\n",
      "number is divisible by 5 and 7 is:  2520\n",
      "number is divisible by 5 and 7 is:  2555\n",
      "number is divisible by 5 and 7 is:  2590\n",
      "number is divisible by 5 and 7 is:  2625\n",
      "number is divisible by 5 and 7 is:  2660\n",
      "number is divisible by 5 and 7 is:  2695\n"
     ]
    }
   ],
   "source": [
    "for value in range(1500, 2701):\n",
    "    if (value%5 == 0) and (value%7 ==0):\n",
    "        print(\"number is divisible by 5 and 7 is: \", value)\n",
    "    else:\n",
    "        continue"
   ]
  },
  {
   "cell_type": "markdown",
   "metadata": {},
   "source": [
    "write a python program to count the number of even and odd numbers from a series of numbers\n"
   ]
  },
  {
   "cell_type": "code",
   "execution_count": 1,
   "metadata": {},
   "outputs": [
    {
     "name": "stdout",
     "output_type": "stream",
     "text": [
      "Number of even numbers:  4\n",
      "Number of odd numbers:  5\n"
     ]
    }
   ],
   "source": [
    "numbers = (1, 2,3,4,5,6,7,8,9)\n",
    "even_cnt = 0\n",
    "odd_cnt = 0\n",
    "for i, value in enumerate(numbers):\n",
    "\n",
    "    if (value%2 ==0):\n",
    "        even_cnt += 1\n",
    "\n",
    "    else:\n",
    "        odd_cnt +=1\n",
    "\n",
    "\n",
    "print(\"Number of even numbers: \", even_cnt)\n",
    "print(\"Number of odd numbers: \", odd_cnt)"
   ]
  },
  {
   "cell_type": "markdown",
   "metadata": {},
   "source": [
    "Write a python program which iterates the integers from 1 to 50.\n",
    "For multiples of 3 print \"Fizz\" instead of the number and for the \n",
    "multiples of 5 print \"Buzz\". for numbers which are multiples of \n",
    "both 3 and 5 print \"FizzBuzz\""
   ]
  },
  {
   "cell_type": "code",
   "execution_count": 3,
   "metadata": {},
   "outputs": [
    {
     "name": "stdout",
     "output_type": "stream",
     "text": [
      "1\n",
      "2\n",
      "Fizz\n",
      "4\n",
      "Buzz\n",
      "Fizz\n",
      "7\n",
      "8\n",
      "Fizz\n",
      "Buzz\n",
      "11\n",
      "Fizz\n",
      "13\n",
      "14\n",
      "FizzBuzz\n",
      "16\n",
      "17\n",
      "Fizz\n",
      "19\n",
      "Buzz\n",
      "Fizz\n",
      "22\n",
      "23\n",
      "Fizz\n",
      "Buzz\n",
      "26\n",
      "Fizz\n",
      "28\n",
      "29\n",
      "FizzBuzz\n",
      "31\n",
      "32\n",
      "Fizz\n",
      "34\n",
      "Buzz\n",
      "Fizz\n",
      "37\n",
      "38\n",
      "Fizz\n",
      "Buzz\n",
      "41\n",
      "Fizz\n",
      "43\n",
      "44\n",
      "FizzBuzz\n",
      "46\n",
      "47\n",
      "Fizz\n",
      "49\n",
      "Buzz\n"
     ]
    }
   ],
   "source": [
    "for num in range(1, 51):\n",
    "    if(num % 3 == 0) and (num % 5 == 0):\n",
    "        print(\"FizzBuzz\")\n",
    "    elif num % 5 == 0:\n",
    "        print(\"Buzz\")\n",
    "    elif num % 3 ==0:\n",
    "        print(\"Fizz\")\n",
    "    else:\n",
    "        print(num)"
   ]
  },
  {
   "cell_type": "markdown",
   "metadata": {},
   "source": [
    "write a python program to calculate the sum and average of n integer numbers"
   ]
  },
  {
   "cell_type": "code",
   "execution_count": 4,
   "metadata": {},
   "outputs": [
    {
     "name": "stdout",
     "output_type": "stream",
     "text": [
      "N integer = 20\n",
      "sum of n numbers =  210\n",
      "Average of n numbers =  10.5\n"
     ]
    }
   ],
   "source": [
    "n = int(input(\"N integer = \"))\n",
    "\n",
    "'''gave the name sum1 because, there is already an inbuilt function called \"sum\" '''\n",
    "sum1 = 0\n",
    "avg = 0\n",
    "for value in range(1, n+1):\n",
    "    sum1 = sum1 + value\n",
    "avg = sum1/n\n",
    "\n",
    "print(\"sum of n numbers = \", sum1)\n",
    "print(\"Average of n numbers = \", avg)"
   ]
  },
  {
   "cell_type": "markdown",
   "metadata": {},
   "source": [
    "Factorial of any number n is represented by n! and is equal to 1*2*3*...(n-1)*n..write a program to calculate factorial of a number."
   ]
  },
  {
   "cell_type": "code",
   "execution_count": null,
   "metadata": {},
   "outputs": [],
   "source": [
    "# n = int(input(\"Enter a number: \"))\n",
    "# fact = 1\n",
    "# for value in range(1, n+1):\n",
    "#     fact = fact*value\n",
    "#\n",
    "# print(\"factorial = \", fact)"
   ]
  }
 ],
 "metadata": {
  "kernelspec": {
   "display_name": "Python 3",
   "language": "python",
   "name": "python3"
  },
  "language_info": {
   "codemirror_mode": {
    "name": "ipython",
    "version": 3
   },
   "file_extension": ".py",
   "mimetype": "text/x-python",
   "name": "python",
   "nbconvert_exporter": "python",
   "pygments_lexer": "ipython3",
   "version": "3.7.1"
  }
 },
 "nbformat": 4,
 "nbformat_minor": 2
}
