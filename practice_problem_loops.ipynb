{
 "cells": [
  {
   "cell_type": "markdown",
   "metadata": {},
   "source": [
    "1.Write a program to calculate sum of the squares of all the numbers from 10 to 20 (both inclusive)?"
   ]
  },
  {
   "cell_type": "code",
   "execution_count": 2,
   "metadata": {},
   "outputs": [
    {
     "name": "stdout",
     "output_type": "stream",
     "text": [
      "sum of squares from 10 to 20 is 2585\n"
     ]
    }
   ],
   "source": [
    "sum1 = 0\n",
    "for i in range(10, 21):\n",
    "    sq = i*i\n",
    "    sum1 = sum1 + sq\n",
    "    \n",
    "print(\"sum of squares from 10 to 20 is\",sum1)\n",
    "    "
   ]
  },
  {
   "cell_type": "markdown",
   "metadata": {},
   "source": [
    "2.Write a program to check if a given number is Perfect number or not.\n",
    "Perfect number => A number is said to be a perfect number if sum of all the divisors less than number is eqal to the the number itself."
   ]
  },
  {
   "cell_type": "code",
   "execution_count": 3,
   "metadata": {},
   "outputs": [
    {
     "name": "stdout",
     "output_type": "stream",
     "text": [
      " Please Enter a Number: 6\n",
      "Perfect Number 6\n"
     ]
    }
   ],
   "source": [
    "num = int(input(\" Please Enter a Number: \"))\n",
    "sum1 = 0\n",
    "for i in range(1, num):\n",
    "    if(num % i == 0):\n",
    "        sum1 = sum1 + i\n",
    "if (sum1 == num):\n",
    "    print(\"Perfect Number\",num)\n",
    "else:\n",
    "    print(\"Not a Perfect Number\", num)"
   ]
  },
  {
   "cell_type": "markdown",
   "metadata": {},
   "source": [
    "3.Write a program to find out max from the given list of numbers.Also print the index of that element\n",
    "\n",
    "Input: nums = [10,50,20,90,60,30] max => 90,index is 3"
   ]
  },
  {
   "cell_type": "code",
   "execution_count": 5,
   "metadata": {},
   "outputs": [
    {
     "name": "stdout",
     "output_type": "stream",
     "text": [
      "max is 90\n",
      "index is  3\n"
     ]
    }
   ],
   "source": [
    "nums = [10,50,20,90,60,30]\n",
    "maxi = 0\n",
    "for index, value in enumerate(nums):\n",
    "    if value > maxi:\n",
    "        maxi = value\n",
    "\n",
    "    else:\n",
    "        continue\n",
    "print(\"max is\", maxi)\n",
    "print(\"index is \",nums.index(maxi))    \n",
    "    "
   ]
  },
  {
   "cell_type": "markdown",
   "metadata": {},
   "source": [
    "4.Write a program to generate 20 fibonacci series numbers.\n",
    "The Fibonacci numbers are the numbers in the following integer sequence.\n",
    "0, 1, 1, 2, 3, 5, 8, 13, 21, 34, 55, 89, 144,..."
   ]
  },
  {
   "cell_type": "code",
   "execution_count": 7,
   "metadata": {},
   "outputs": [
    {
     "name": "stdout",
     "output_type": "stream",
     "text": [
      "Enter the number: 20\n",
      "0\n",
      "1\n",
      "1\n",
      "2\n",
      "3\n",
      "5\n",
      "8\n",
      "13\n",
      "21\n",
      "34\n",
      "55\n",
      "89\n",
      "144\n",
      "233\n",
      "377\n",
      "610\n",
      "987\n",
      "1597\n",
      "2584\n",
      "4181\n"
     ]
    }
   ],
   "source": [
    "Number = int(input(\"Enter the number: \"))\n",
    "num1 = 0\n",
    "num2 = 1\n",
    "\n",
    "for i in range(0, Number):\n",
    "    if (i <= 1):\n",
    "        fibo = i\n",
    "    else:\n",
    "        fibo = num1 + num2\n",
    "        num1 = num2\n",
    "        num2 = fibo\n",
    "    print(fibo)"
   ]
  },
  {
   "cell_type": "markdown",
   "metadata": {},
   "source": [
    "5.Write a program to count the total number of vowels and consonent. Input : \"Python Statement\", Vowel count : 4 Consonent Count : 11"
   ]
  },
  {
   "cell_type": "code",
   "execution_count": 9,
   "metadata": {},
   "outputs": [
    {
     "name": "stdout",
     "output_type": "stream",
     "text": [
      "Total Number of Vowels in this String =  4\n",
      "Total Number of Consonants in this String =  11\n"
     ]
    }
   ],
   "source": [
    "ch = \"PythonStatement\"\n",
    "\n",
    "vowels = 0\n",
    "consonants = 0\n",
    "ch.lower()\n",
    "\n",
    "for i in ch:\n",
    "    if (i == 'a' or i == 'e' or i == 'i' or i == 'o' or i == 'u'):\n",
    "        vowels = vowels + 1\n",
    "    else:\n",
    "        \n",
    "        consonants = consonants + 1\n",
    "\n",
    "print(\"Total Number of Vowels in this String = \", vowels)\n",
    "print(\"Total Number of Consonants in this String = \", consonants)"
   ]
  },
  {
   "cell_type": "code",
   "execution_count": null,
   "metadata": {},
   "outputs": [],
   "source": []
  }
 ],
 "metadata": {
  "kernelspec": {
   "display_name": "Python 3",
   "language": "python",
   "name": "python3"
  },
  "language_info": {
   "codemirror_mode": {
    "name": "ipython",
    "version": 3
   },
   "file_extension": ".py",
   "mimetype": "text/x-python",
   "name": "python",
   "nbconvert_exporter": "python",
   "pygments_lexer": "ipython3",
   "version": "3.7.1"
  }
 },
 "nbformat": 4,
 "nbformat_minor": 2
}
