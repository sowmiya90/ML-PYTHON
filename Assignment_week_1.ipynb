{
 "cells": [
  {
   "cell_type": "markdown",
   "metadata": {},
   "source": [
    "1st problem"
   ]
  },
  {
   "cell_type": "code",
   "execution_count": 6,
   "metadata": {},
   "outputs": [
    {
     "name": "stdout",
     "output_type": "stream",
     "text": [
      "Enter the amount: 1000\n",
      "Enter the ratings from 1 to 5: 2\n",
      "1100.0\n"
     ]
    }
   ],
   "source": [
    "a = int(input(\"Enter the amount: \"))\n",
    "b = int(input(\"Enter the ratings from 1 to 5: \"))\n",
    "my_dic = {1: 5, 2:10, 3:15, 4:20, 5:25}\n",
    "s = my_dic.get(b)\n",
    "tip = a*(s/100)\n",
    "sum1 = a + tip\n",
    "print(sum1)\n",
    "\n",
    "    "
   ]
  },
  {
   "cell_type": "markdown",
   "metadata": {},
   "source": [
    "2nd problem"
   ]
  },
  {
   "cell_type": "code",
   "execution_count": 12,
   "metadata": {},
   "outputs": [
    {
     "name": "stdout",
     "output_type": "stream",
     "text": [
      "amt =  5200\n",
      "2000 =  2\n",
      "500 =  2\n",
      "100 =  2\n"
     ]
    }
   ],
   "source": [
    "amt = 5200\n",
    "l = [10,20,50,100,500,2000]\n",
    "a = amt//2000\n",
    "h = amt%2000\n",
    "b = h//500\n",
    "i = h%500\n",
    "c = i//100\n",
    "j = i%100\n",
    "print(\"amt = \", amt)\n",
    "print(\"2000 = \",a)\n",
    "print(\"500 = \", b)\n",
    "print(\"100 = \", c)\n",
    "\n"
   ]
  },
  {
   "cell_type": "markdown",
   "metadata": {},
   "source": [
    "3rd problem"
   ]
  },
  {
   "cell_type": "code",
   "execution_count": 15,
   "metadata": {},
   "outputs": [
    {
     "name": "stdout",
     "output_type": "stream",
     "text": [
      "25.0\n",
      "148\n",
      "24.0\n",
      "142\n",
      "23.0\n",
      "136\n",
      "22.0\n",
      "130\n",
      "21.0\n",
      "124\n",
      "20.0\n",
      "118\n",
      "19.0\n",
      "112\n",
      "18.0\n",
      "106\n",
      "17.0\n",
      "100\n",
      "16.0\n",
      "94\n",
      "15.0\n",
      "88\n",
      "14.0\n",
      "82\n",
      "13.0\n",
      "76\n",
      "12.0\n",
      "70\n",
      "11.0\n",
      "64\n",
      "10.0\n",
      "58\n",
      "9.0\n",
      "52\n",
      "8.0\n",
      "46\n",
      "7.0\n",
      "40\n",
      "6.0\n",
      "34\n",
      "5.0\n",
      "28\n",
      "4.0\n",
      "22\n",
      "3.0\n",
      "16\n",
      "2.0\n",
      "10\n",
      "1.0\n"
     ]
    }
   ],
   "source": [
    "for i in range(50, 0, -1):\n",
    "    if (i%2==0):\n",
    "        e = i/2\n",
    "        print(e)\n",
    "        if e==1:\n",
    "            break\n",
    "        \n",
    "    else:\n",
    "        o = (i*3)+1\n",
    "        print(o)\n",
    "        if o==1:\n",
    "            break"
   ]
  },
  {
   "cell_type": "markdown",
   "metadata": {},
   "source": [
    "4th problem"
   ]
  },
  {
   "cell_type": "code",
   "execution_count": 45,
   "metadata": {},
   "outputs": [
    {
     "name": "stdout",
     "output_type": "stream",
     "text": [
      "Enter a stringARm                  y\n",
      "Enter another stringM@#$#@%#%#@^       Ary\n",
      "The words are anogram\n"
     ]
    }
   ],
   "source": [
    "s = input(\"Enter a string\")\n",
    "s1 = input(\"Enter another string\")\n",
    "# s = \"Arm        y\"\n",
    "# s1 = \"Ma$$$$#@#$%$#@#ry\"\n",
    "cnt = []\n",
    "cnt1 = []\n",
    "s = s.replace(\" \",\"\")\n",
    "# print(s)\n",
    "s1 = s1.replace(\" \",\"\")\n",
    "# print(s1)\n",
    "\n",
    "for i in s:\n",
    "#     print(s.count(i))\n",
    "    if i.isalpha():\n",
    "        cnt.append(s.count(i))\n",
    "    else:\n",
    "        s.strip(i)\n",
    "            \n",
    "for j in s1:\n",
    "    if j.isalpha():\n",
    "        cnt1.append(s1.count(j))\n",
    "    else:\n",
    "        s1.strip(j)\n",
    "\n",
    "if len(cnt) == len(cnt1):\n",
    "    print(\"The words are anogram\")\n",
    "else:\n",
    "    print(\"The words are not anogram\")\n",
    "    \n",
    "    "
   ]
  },
  {
   "cell_type": "markdown",
   "metadata": {},
   "source": [
    "5th problem\n",
    "    "
   ]
  },
  {
   "cell_type": "code",
   "execution_count": 1,
   "metadata": {},
   "outputs": [
    {
     "name": "stdout",
     "output_type": "stream",
     "text": [
      "a\n",
      "i\n",
      "p\n",
      "g\n",
      "s\n",
      "q\n",
      "i\n"
     ]
    }
   ],
   "source": [
    "s1 = 'welcome'\n",
    "for i in s1:\n",
    "\n",
    "    # print(i, ord(i))\n",
    "    j = ord(i) + 4\n",
    "\n",
    "    if j >= 123:\n",
    "        k = j- 26\n",
    "        print(chr(k))\n",
    "    else:\n",
    "        print(chr(j))"
   ]
  },
  {
   "cell_type": "markdown",
   "metadata": {},
   "source": [
    "6th problem"
   ]
  },
  {
   "cell_type": "code",
   "execution_count": 2,
   "metadata": {},
   "outputs": [
    {
     "name": "stdout",
     "output_type": "stream",
     "text": [
      "[(2, 5), (3, 4), (4, 3), (5, 2)]\n"
     ]
    }
   ],
   "source": [
    "arr = [1, 2, 3, 4, 5]\n",
    "n = len(arr)\n",
    "# print(\"n = \", n)\n",
    "sum1 = 7\n",
    "count = 0\n",
    "c = 0\n",
    "s = []\n",
    "for i in range(0, n):\n",
    "    for j in range(0, n):\n",
    "        if arr[i] != arr[j]:\n",
    "            sum_loop = arr[i] + arr[j]\n",
    "            if sum_loop == sum1:\n",
    "                cost = (arr[i], arr[j])\n",
    "                s.append(cost)\n",
    "                c = c+1\n",
    "                count += 1\n",
    "print(s)"
   ]
  },
  {
   "cell_type": "markdown",
   "metadata": {},
   "source": [
    "7th problem"
   ]
  },
  {
   "cell_type": "code",
   "execution_count": 4,
   "metadata": {},
   "outputs": [
    {
     "name": "stdout",
     "output_type": "stream",
     "text": [
      "The original string 1 : abc\n",
      "The original string 2 : def\n",
      "adbecf\n"
     ]
    }
   ],
   "source": [
    "s1 = 'abc'\n",
    "s2 = 'def'\n",
    "print(\"The original string 1 : \" + s1)\n",
    "print(\"The original string 2 : \" + s2)\n",
    "res = \"\".join(i + j for i, j in zip(s1, s2))\n",
    "print(res)"
   ]
  },
  {
   "cell_type": "markdown",
   "metadata": {},
   "source": [
    "8.Write a program to input electricity unit charge and calculate the total electricity bill according to the given conditions:\n",
    "\n",
    "- For the first 50 units Rs. 0.50/unit\n",
    "- For the next 100 units Rs. 0.75/unit\n",
    "- For the next 100 units Rs. 1.20/unit\n",
    "- For unit above 250 Rs. 1.50/unit\n",
    "\n",
    "Also, an additional surcharge of 20% should be added to the bill."
   ]
  },
  {
   "cell_type": "code",
   "execution_count": 5,
   "metadata": {},
   "outputs": [
    {
     "name": "stdout",
     "output_type": "stream",
     "text": [
      "Enter the total no. of units: 250\n",
      "EB Bill =  309.0\n"
     ]
    }
   ],
   "source": [
    "eb_units = int(input(\"Enter the total no. of units: \"))\n",
    "\n",
    "if(eb_units < 50):\n",
    "    amount = units * 0.50\n",
    "\n",
    "elif(eb_units <= 100):\n",
    "    amount = 25 + ((eb_units - 50) * 0.75)\n",
    "\n",
    "elif(eb_units <= 200):\n",
    "    amount = 25 + 37.50 + ((eb_units - 100) * 1.20)\n",
    "\n",
    "else:\n",
    "    amount = 25 + 37.50 + 120 + ((eb_units - 200) * 1.50)\n",
    "\n",
    "surcharge = amount * (20/100)\n",
    "\n",
    "\n",
    "total = amount + surcharge\n",
    "print(\"EB Bill = \", total)"
   ]
  },
  {
   "cell_type": "markdown",
   "metadata": {},
   "source": [
    "10th problem"
   ]
  },
  {
   "cell_type": "code",
   "execution_count": 6,
   "metadata": {},
   "outputs": [
    {
     "name": "stdout",
     "output_type": "stream",
     "text": [
      "Enter any integers: 12345\n",
      "54321\n"
     ]
    }
   ],
   "source": [
    "a = str(input(\"Enter any integers: \"))\n",
    "print(a[::-1])"
   ]
  },
  {
   "cell_type": "markdown",
   "metadata": {},
   "source": []
  }
 ],
 "metadata": {
  "kernelspec": {
   "display_name": "Python 3",
   "language": "python",
   "name": "python3"
  },
  "language_info": {
   "codemirror_mode": {
    "name": "ipython",
    "version": 3
   },
   "file_extension": ".py",
   "mimetype": "text/x-python",
   "name": "python",
   "nbconvert_exporter": "python",
   "pygments_lexer": "ipython3",
   "version": "3.7.1"
  }
 },
 "nbformat": 4,
 "nbformat_minor": 2
}
